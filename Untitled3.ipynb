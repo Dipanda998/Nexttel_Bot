{
 "cells": [
  {
   "cell_type": "code",
   "execution_count": 1,
   "id": "6dcb8427",
   "metadata": {},
   "outputs": [],
   "source": [
    "import socket, threading"
   ]
  },
  {
   "cell_type": "code",
   "execution_count": null,
   "id": "762479e4",
   "metadata": {},
   "outputs": [
    {
     "name": "stdout",
     "output_type": "stream",
     "text": [
      "Server started\n",
      "Waiting for client request..\n",
      "from client merci\n",
      "from client merde\n",
      "from client ok\n",
      "from client idiot\n",
      "Client at  ('127.0.0.1', 60057)  disconnected...\n",
      "from client ok\n",
      "from client merci\n",
      "from client merde\n",
      "Client at  ('127.0.0.1', 60058)  disconnected...\n"
     ]
    }
   ],
   "source": [
    "class ClientThread(threading.Thread):\n",
    "    def __init__(self,clientAddress,clientsocket):\n",
    "        threading.Thread.__init__(self)\n",
    "        self.csocket = clientsocket\n",
    "        \n",
    "    def run(self):\n",
    "        #self.csocket.send(bytes(\"Hi, This is from Server..\",'utf-8'))\n",
    "        msg = ''\n",
    "        while True:\n",
    "            data = self.csocket.recv(2048)\n",
    "            msg = data.decode(\"utf8\")\n",
    "            if msg=='bye':\n",
    "                self.csocket.send(message_emis)\n",
    "                break\n",
    "            print (\"from client\", msg)\n",
    "            message_emis = \"5/5\".encode(\"utf8\")\n",
    "            self.csocket.send(message_emis)\n",
    "        print (\"Client at \", clientAddress , \" disconnected...\")\n",
    "        \n",
    "LOCALHOST = \"127.0.0.1\"\n",
    "PORT = 12101\n",
    "server = socket.socket(socket.AF_INET, socket.SOCK_STREAM)\n",
    "server.setsockopt(socket.SOL_SOCKET, socket.SO_REUSEADDR, 1)\n",
    "server.bind((LOCALHOST, PORT))\n",
    "print(\"Server started\")\n",
    "print(\"Waiting for client request..\")\n",
    "while True:\n",
    "    server.listen(10)\n",
    "    clientsock, clientAddress = server.accept()\n",
    "    newthread = ClientThread(clientAddress, clientsock)\n",
    "    newthread.start()"
   ]
  }
 ],
 "metadata": {
  "kernelspec": {
   "display_name": "Python 3",
   "language": "python",
   "name": "python3"
  },
  "language_info": {
   "codemirror_mode": {
    "name": "ipython",
    "version": 3
   },
   "file_extension": ".py",
   "mimetype": "text/x-python",
   "name": "python",
   "nbconvert_exporter": "python",
   "pygments_lexer": "ipython3",
   "version": "3.8.8"
  }
 },
 "nbformat": 4,
 "nbformat_minor": 5
}
