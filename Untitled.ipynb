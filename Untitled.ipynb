{
 "cells": [
  {
   "cell_type": "code",
   "execution_count": 2,
   "id": "69c12c48",
   "metadata": {},
   "outputs": [],
   "source": [
    "from __future__ import absolute_import\n",
    "from __future__ import division\n",
    "from __future__ import print_function\n",
    "from __future__ import unicode_literals\n",
    "\n",
    "from rasa.core import utils\n",
    "from rasa.core.agent import Agent\n",
    "from rasa.core.policies.memoization import MemoizationPolicy\n",
    "from rasa.core.policies.sklearn_policy import SklearnPolicy\n",
    "from rasa.core.policies.ted_policy import TEDPolicy\n",
    "from rasa_sdk import Action, Tracker, FormValidationAction\n",
    "import re\n",
    "from rasa_sdk.forms import FormAction\n",
    "from typing import Any, Text, Dict, List, Union\n",
    "from rasa_sdk.executor import CollectingDispatcher\n",
    "from rasa_sdk.events import SlotSet, EventType\n",
    "import requests\n",
    "import os"
   ]
  },
  {
   "cell_type": "code",
   "execution_count": 16,
   "id": "2ce62771",
   "metadata": {},
   "outputs": [],
   "source": [
    "import csv\n",
    "file_txt= r\"C:\\Users\\daniel\\Desktop\\nexttel\\TAL\\rasa_chatbot_fr\\actions\\testmoi.csv\"\n",
    "\n",
    "exist = os.path.isfile(file_txt)\n",
    "size = os.path.getsize(file_txt)\n",
    "\n",
    "header = ['Problèmes', 'Résolus']\n",
    "data = ['Problème','True']\n",
    "\n",
    "# try:\n",
    "file = open(file_txt, 'a+', newline ='')\n",
    "with file:\n",
    "    writer = csv.DictWriter(file, fieldnames = header)\n",
    "    writer.writerow({'Problèmes' : 'Google', \n",
    "                     'Résolus': '1998'})\n",
    "# except:\n",
    "#     print(\"Error\")\n",
    "\n",
    "tracker = Tracker\n",
    "tracker.get_intent_of_latest_message()"
   ]
  },
  {
   "cell_type": "code",
   "execution_count": 6,
   "id": "b6b8bc29",
   "metadata": {},
   "outputs": [
    {
     "name": "stdout",
     "output_type": "stream",
     "text": [
      "M ou Mme << test >> qui a pour numero le << 44 >> rencontre un problème.\n",
      "Le contexte de la conversation est la suivante:\n",
      "ddffdf\n"
     ]
    }
   ],
   "source": [
    "nom = \"test\"\n",
    "numero = \"44\"\n",
    "context = \"ddffdf\"\n",
    "    \n",
    "p = \"M ou Mme << {} >> qui a pour numero le << {} >> rencontre un problème.\\nLe contexte de la conversation est la suivante:\\n{}\".format(nom, numero, context)\n",
    "print(p)"
   ]
  }
 ],
 "metadata": {
  "kernelspec": {
   "display_name": "Python 3",
   "language": "python",
   "name": "python3"
  },
  "language_info": {
   "codemirror_mode": {
    "name": "ipython",
    "version": 3
   },
   "file_extension": ".py",
   "mimetype": "text/x-python",
   "name": "python",
   "nbconvert_exporter": "python",
   "pygments_lexer": "ipython3",
   "version": "3.8.8"
  }
 },
 "nbformat": 4,
 "nbformat_minor": 5
}
