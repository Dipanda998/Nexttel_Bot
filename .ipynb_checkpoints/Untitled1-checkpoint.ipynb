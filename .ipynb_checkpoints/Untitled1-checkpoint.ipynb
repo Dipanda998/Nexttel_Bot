{
 "cells": [
  {
   "cell_type": "code",
   "execution_count": 1,
   "id": "f051cc03",
   "metadata": {},
   "outputs": [],
   "source": [
    "# coding: utf-8 \n",
    "import socket\n",
    "import threading"
   ]
  },
  {
   "cell_type": "code",
   "execution_count": null,
   "id": "5815161f",
   "metadata": {},
   "outputs": [
    {
     "name": "stdout",
     "output_type": "stream",
     "text": [
      "En écoute...\n",
      "En écoute...\n",
      "b'bonjour'\n"
     ]
    }
   ],
   "source": [
    "class ClientThread(threading.Thread):\n",
    "\n",
    "    def __init__(self, ip, port, clientsocket):\n",
    "        threading.Thread.__init__(self)\n",
    "        self.ip = ip\n",
    "        self.port = port\n",
    "        self.clientsocket = clientsocket\n",
    "\n",
    "    def run(self): \n",
    "        message_recu = self.clientsocket.recv(2048).decode(\"utf8\")\n",
    "        print(message_recu)\n",
    "        message_emis = \"5/5\".encode(\"utf8\")\n",
    "        self.clientsocket.send(message_emis)\n",
    "\n",
    "tcpsock = socket.socket(socket.AF_INET, socket.SOCK_STREAM)\n",
    "tcpsock.setsockopt(socket.SOL_SOCKET, socket.SO_REUSEADDR, 1)\n",
    "host = \"\"\n",
    "port = 12100\n",
    "tcpsock.bind((host, port))\n",
    "\n",
    "while True:\n",
    "    tcpsock.listen(10)\n",
    "    print( \"En écoute...\")\n",
    "    (clientsocket, (ip, port)) = tcpsock.accept()\n",
    "    newthread = ClientThread(ip, port, clientsocket)\n",
    "    newthread.start()"
   ]
  }
 ],
 "metadata": {
  "kernelspec": {
   "display_name": "Python 3",
   "language": "python",
   "name": "python3"
  },
  "language_info": {
   "codemirror_mode": {
    "name": "ipython",
    "version": 3
   },
   "file_extension": ".py",
   "mimetype": "text/x-python",
   "name": "python",
   "nbconvert_exporter": "python",
   "pygments_lexer": "ipython3",
   "version": "3.8.8"
  }
 },
 "nbformat": 4,
 "nbformat_minor": 5
}
