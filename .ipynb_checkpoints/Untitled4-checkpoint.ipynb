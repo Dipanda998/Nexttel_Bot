{
 "cells": [
  {
   "cell_type": "code",
   "execution_count": 1,
   "id": "db700a5f",
   "metadata": {},
   "outputs": [],
   "source": [
    "import socket"
   ]
  },
  {
   "cell_type": "code",
   "execution_count": 3,
   "id": "60373b21",
   "metadata": {},
   "outputs": [
    {
     "name": "stdout",
     "output_type": "stream",
     "text": [
      "ok\n",
      "From Server : 5/5\n",
      "merci\n",
      "From Server : 5/5\n",
      "merde\n",
      "From Server : 5/5\n",
      "bye\n",
      "From Server : 5/5\n"
     ]
    }
   ],
   "source": [
    "SERVER = \"192.168.1.9\"\n",
    "PORT = 12101\n",
    "client = socket.socket(socket.AF_INET, socket.SOCK_STREAM)\n",
    "client.connect((SERVER, PORT))\n",
    "# client.sendall(bytes(\"This is from Client\",'UTF-8'))\n",
    "while True:\n",
    "    out_data = input()\n",
    "    client.sendall(out_data.encode(\"utf8\"))\n",
    "    in_data =  client.recv(1024)\n",
    "    print(\"From Server : {}\".format(in_data.decode(\"utf8\")))\n",
    "    if out_data=='bye':\n",
    "        break\n",
    "client.close()"
   ]
  }
 ],
 "metadata": {
  "kernelspec": {
   "display_name": "Python 3",
   "language": "python",
   "name": "python3"
  },
  "language_info": {
   "codemirror_mode": {
    "name": "ipython",
    "version": 3
   },
   "file_extension": ".py",
   "mimetype": "text/x-python",
   "name": "python",
   "nbconvert_exporter": "python",
   "pygments_lexer": "ipython3",
   "version": "3.8.8"
  }
 },
 "nbformat": 4,
 "nbformat_minor": 5
}
