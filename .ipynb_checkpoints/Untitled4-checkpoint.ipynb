{
 "cells": [
  {
   "cell_type": "code",
   "execution_count": 5,
   "id": "db700a5f",
   "metadata": {},
   "outputs": [],
   "source": [
    "import socket"
   ]
  },
  {
   "cell_type": "code",
   "execution_count": null,
   "id": "60373b21",
   "metadata": {},
   "outputs": [
    {
     "name": "stdout",
     "output_type": "stream",
     "text": [
      "237663744490,pi,King\n",
      "From Server : result:Everything is ok;\n"
     ]
    }
   ],
   "source": [
    "# SERVER = \"192.168.1.5\"\n",
    "SERVER = \"localhost\"\n",
    "PORT = 12101\n",
    "client = socket.socket(socket.AF_INET, socket.SOCK_STREAM)\n",
    "client.connect((SERVER, PORT))\n",
    "# client.sendall(bytes(\"This is from Client\",'UTF-8'))\n",
    "while True:\n",
    "    out_data = input()\n",
    "    client.send(out_data.encode())\n",
    "    in_data =  client.recv(1024)\n",
    "    print(\"From Server : {}\".format(in_data.decode()))\n",
    "    if out_data=='bye':\n",
    "        break\n",
    "client.close()"
   ]
  },
  {
   "cell_type": "code",
   "execution_count": null,
   "id": "28cbcc6a",
   "metadata": {},
   "outputs": [],
   "source": []
  }
 ],
 "metadata": {
  "kernelspec": {
   "display_name": "Python 3",
   "language": "python",
   "name": "python3"
  },
  "language_info": {
   "codemirror_mode": {
    "name": "ipython",
    "version": 3
   },
   "file_extension": ".py",
   "mimetype": "text/x-python",
   "name": "python",
   "nbconvert_exporter": "python",
   "pygments_lexer": "ipython3",
   "version": "3.8.8"
  }
 },
 "nbformat": 4,
 "nbformat_minor": 5
}
