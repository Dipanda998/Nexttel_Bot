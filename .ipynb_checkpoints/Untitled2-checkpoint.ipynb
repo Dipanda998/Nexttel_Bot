{
 "cells": [
  {
   "cell_type": "code",
   "execution_count": 1,
   "id": "a37324d5",
   "metadata": {},
   "outputs": [],
   "source": [
    "# coding: utf-8\n",
    "import socket\n"
   ]
  },
  {
   "cell_type": "code",
   "execution_count": null,
   "id": "0196857e",
   "metadata": {},
   "outputs": [],
   "source": [
    "s = socket.socket(socket.AF_INET, socket.SOCK_STREAM)\n",
    "s.connect((\"\", 12100))\n",
    "\n",
    "file_name = input(\">> \") # utilisez raw_input() pour les anciennes versions python\n",
    "s.send(file_name.encode())\n",
    "file_name = 'data/%s' % (file_name,)\n",
    "r = s.recv(9999999)\n",
    "with open(file_name,'wb') as _file:\n",
    "    _file.write(r)\n",
    "print(\"Le fichier a été correctement copié dans : %s.\" % file_name)"
   ]
  },
  {
   "cell_type": "code",
   "execution_count": null,
   "id": "2361803f",
   "metadata": {},
   "outputs": [
    {
     "name": "stdout",
     "output_type": "stream",
     "text": [
      "Connexion établie avec le serveur sur le port12100 \n",
      "> bonjour\n"
     ]
    }
   ],
   "source": [
    "host= \"localhost\"\n",
    "port = 12100\n",
    "connexion_avec_serveur = socket. socket( socket. AF_INET,socket. SOCK_STREAM)\n",
    "connexion_avec_serveur. connect((host, port))\n",
    "print( \"Connexion établie avec le serveur sur le port{} \".format(port))\n",
    "msg_a_envoyer = b\"\"\n",
    "while msg_a_envoyer!=b\"fin\":\n",
    "    msg_a_envoyer = input( \"> \")\n",
    "    # Peut planter si vous tapez des caractères spéciaux\n",
    "    msg_a_envoyer = msg_a_envoyer.encode(\"utf8\")\n",
    "    # On envoie le message\n",
    "    connexion_avec_serveur.send(msg_a_envoyer)\n",
    "    msg_recu = connexion_avec_serveur.recv( 1024)\n",
    "    print(msg_recu.decode(\"utf8\")) # Là encore, peut planter s'il y a des accents\n",
    "print( \"Fermeture de la connexion\")\n",
    "connexion_avec_serveur. close()"
   ]
  }
 ],
 "metadata": {
  "kernelspec": {
   "display_name": "Python 3",
   "language": "python",
   "name": "python3"
  },
  "language_info": {
   "codemirror_mode": {
    "name": "ipython",
    "version": 3
   },
   "file_extension": ".py",
   "mimetype": "text/x-python",
   "name": "python",
   "nbconvert_exporter": "python",
   "pygments_lexer": "ipython3",
   "version": "3.8.8"
  }
 },
 "nbformat": 4,
 "nbformat_minor": 5
}
