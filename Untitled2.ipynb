{
 "cells": [
  {
   "cell_type": "code",
   "execution_count": 1,
   "id": "ee87ea6d",
   "metadata": {},
   "outputs": [],
   "source": [
    "# coding: utf-8\n",
    "import socket\n"
   ]
  },
  {
   "cell_type": "code",
   "execution_count": 2,
   "id": "10bd0f29",
   "metadata": {},
   "outputs": [
    {
     "ename": "ConnectionRefusedError",
     "evalue": "[WinError 10061] Aucune connexion n’a pu être établie car l’ordinateur cible l’a expressément refusée",
     "output_type": "error",
     "traceback": [
      "\u001b[1;31m---------------------------------------------------------------------------\u001b[0m",
      "\u001b[1;31mConnectionRefusedError\u001b[0m                    Traceback (most recent call last)",
      "\u001b[1;32m<ipython-input-2-2186139a889f>\u001b[0m in \u001b[0;36m<module>\u001b[1;34m\u001b[0m\n\u001b[0;32m      2\u001b[0m \u001b[0mport\u001b[0m \u001b[1;33m=\u001b[0m \u001b[1;36m12100\u001b[0m\u001b[1;33m\u001b[0m\u001b[1;33m\u001b[0m\u001b[0m\n\u001b[0;32m      3\u001b[0m \u001b[0mconnexion_avec_serveur\u001b[0m \u001b[1;33m=\u001b[0m \u001b[0msocket\u001b[0m\u001b[1;33m.\u001b[0m \u001b[0msocket\u001b[0m\u001b[1;33m(\u001b[0m \u001b[0msocket\u001b[0m\u001b[1;33m.\u001b[0m \u001b[0mAF_INET\u001b[0m\u001b[1;33m,\u001b[0m\u001b[0msocket\u001b[0m\u001b[1;33m.\u001b[0m \u001b[0mSOCK_STREAM\u001b[0m\u001b[1;33m)\u001b[0m\u001b[1;33m\u001b[0m\u001b[1;33m\u001b[0m\u001b[0m\n\u001b[1;32m----> 4\u001b[1;33m \u001b[0mconnexion_avec_serveur\u001b[0m\u001b[1;33m.\u001b[0m \u001b[0mconnect\u001b[0m\u001b[1;33m(\u001b[0m\u001b[1;33m(\u001b[0m\u001b[0mhost\u001b[0m\u001b[1;33m,\u001b[0m \u001b[0mport\u001b[0m\u001b[1;33m)\u001b[0m\u001b[1;33m)\u001b[0m\u001b[1;33m\u001b[0m\u001b[1;33m\u001b[0m\u001b[0m\n\u001b[0m\u001b[0;32m      5\u001b[0m \u001b[0mprint\u001b[0m\u001b[1;33m(\u001b[0m \u001b[1;34m\"Connexion établie avec le serveur sur le port {} \"\u001b[0m\u001b[1;33m.\u001b[0m\u001b[0mformat\u001b[0m\u001b[1;33m(\u001b[0m\u001b[0mport\u001b[0m\u001b[1;33m)\u001b[0m\u001b[1;33m)\u001b[0m\u001b[1;33m\u001b[0m\u001b[1;33m\u001b[0m\u001b[0m\n\u001b[0;32m      6\u001b[0m \u001b[0mmsg_a_envoyer\u001b[0m \u001b[1;33m=\u001b[0m \u001b[1;34m\"\"\u001b[0m\u001b[1;33m\u001b[0m\u001b[1;33m\u001b[0m\u001b[0m\n",
      "\u001b[1;31mConnectionRefusedError\u001b[0m: [WinError 10061] Aucune connexion n’a pu être établie car l’ordinateur cible l’a expressément refusée"
     ]
    }
   ],
   "source": [
    "host= \"localhost\"\n",
    "port = 12100\n",
    "connexion_avec_serveur = socket. socket( socket. AF_INET,socket. SOCK_STREAM)\n",
    "connexion_avec_serveur. connect((host, port))\n",
    "print( \"Connexion établie avec le serveur sur le port {} \".format(port))\n",
    "msg_a_envoyer = \"\"\n",
    "while msg_a_envoyer!=\"fin\":\n",
    "    msg_a_envoyer = input(\"> \")\n",
    "    msg_a_envoyer = msg_a_envoyer.encode(\"utf8\")\n",
    "    connexion_avec_serveur.send(msg_a_envoyer)\n",
    "    msg_recu = connexion_avec_serveur.recv(1024)\n",
    "    print(msg_recu.decode(\"utf8\")) # Là encore, peut planter s'il y a des accents\n",
    "print( \"Fermeture de la connexion\")\n",
    "connexion_avec_serveur. close()"
   ]
  }
 ],
 "metadata": {
  "kernelspec": {
   "display_name": "Python 3",
   "language": "python",
   "name": "python3"
  },
  "language_info": {
   "codemirror_mode": {
    "name": "ipython",
    "version": 3
   },
   "file_extension": ".py",
   "mimetype": "text/x-python",
   "name": "python",
   "nbconvert_exporter": "python",
   "pygments_lexer": "ipython3",
   "version": "3.8.8"
  }
 },
 "nbformat": 4,
 "nbformat_minor": 5
}
