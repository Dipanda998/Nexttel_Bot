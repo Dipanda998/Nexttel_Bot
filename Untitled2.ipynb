{
 "cells": [
  {
   "cell_type": "code",
   "execution_count": 1,
   "id": "ee87ea6d",
   "metadata": {},
   "outputs": [],
   "source": [
    "# coding: utf-8\n",
    "import socket\n"
   ]
  },
  {
   "cell_type": "code",
   "execution_count": null,
   "id": "10bd0f29",
   "metadata": {},
   "outputs": [
    {
     "name": "stdout",
     "output_type": "stream",
     "text": [
      "Connexion établie avec le serveur sur le port 12100 \n",
      "> bonjour\n",
      "5/5\n",
      "> lerci\n"
     ]
    }
   ],
   "source": [
    "host= \"localhost\"\n",
    "port = 12100\n",
    "connexion_avec_serveur = socket. socket( socket. AF_INET,socket. SOCK_STREAM)\n",
    "connexion_avec_serveur. connect((host, port))\n",
    "print( \"Connexion établie avec le serveur sur le port {} \".format(port))\n",
    "msg_a_envoyer = \"\"\n",
    "while msg_a_envoyer!=\"fin\":\n",
    "    msg_a_envoyer = input(\"> \")\n",
    "    msg_a_envoyer = msg_a_envoyer.encode(\"utf8\")\n",
    "    connexion_avec_serveur.send(msg_a_envoyer)\n",
    "    msg_recu = connexion_avec_serveur.recv(1024)\n",
    "    print(msg_recu.decode(\"utf8\")) # Là encore, peut planter s'il y a des accents\n",
    "print( \"Fermeture de la connexion\")\n",
    "connexion_avec_serveur. close()"
   ]
  }
 ],
 "metadata": {
  "kernelspec": {
   "display_name": "Python 3",
   "language": "python",
   "name": "python3"
  },
  "language_info": {
   "codemirror_mode": {
    "name": "ipython",
    "version": 3
   },
   "file_extension": ".py",
   "mimetype": "text/x-python",
   "name": "python",
   "nbconvert_exporter": "python",
   "pygments_lexer": "ipython3",
   "version": "3.8.8"
  }
 },
 "nbformat": 4,
 "nbformat_minor": 5
}
