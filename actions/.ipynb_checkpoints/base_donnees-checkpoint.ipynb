{
 "cells": [
  {
   "cell_type": "code",
   "execution_count": null,
   "id": "76909728",
   "metadata": {},
   "outputs": [],
   "source": [
    "from pymongo import MongoClient\n",
    "import datetime\n",
    "import pprint\n",
    "client = MongoClient('localhost', 27017)\n",
    "db = client.rasa\n",
    "internet_heure = db.internet_heure\n",
    "internet_jour = db.internet_jour\n",
    "internet_semaine = db.internet_jour\n",
    "internet_mois = db.internet_jour\n",
    "\n",
    "posts = db.problemes "
   ]
  }
 ],
 "metadata": {
  "kernelspec": {
   "display_name": "Python 3",
   "language": "python",
   "name": "python3"
  },
  "language_info": {
   "codemirror_mode": {
    "name": "ipython",
    "version": 3
   },
   "file_extension": ".py",
   "mimetype": "text/x-python",
   "name": "python",
   "nbconvert_exporter": "python",
   "pygments_lexer": "ipython3",
   "version": "3.8.8"
  }
 },
 "nbformat": 4,
 "nbformat_minor": 5
}
