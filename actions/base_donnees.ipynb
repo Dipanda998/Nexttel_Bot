{
 "cells": [
  {
   "cell_type": "code",
   "execution_count": 18,
   "id": "55fac648",
   "metadata": {},
   "outputs": [],
   "source": [
    "from pymongo import MongoClient\n",
    "import datetime\n",
    "import pprint\n",
    "client = MongoClient('localhost', 27017)\n",
    "db = client.rasa\n",
    "mois = \"internet_mois\"\n",
    "internet_heure = db.internet_heure\n",
    "internet_jour = db.internet_jour\n",
    "internet_semaine = db.internet_semaine\n",
    "internet_mois = db.internet_mois\n",
    "internet_nuit = db.internet_nuit\n",
    "internet_weekend = db.internet_weekend\n"
   ]
  },
  {
   "cell_type": "code",
   "execution_count": 20,
   "id": "98c87ef9",
   "metadata": {},
   "outputs": [
    {
     "name": "stdout",
     "output_type": "stream",
     "text": [
      "Nexttel propose les forfaits internet suivant: \n",
      "Forfait Fly Monthly1, montant: 8000 F, volume : 4,6 Go, validité 30 Jours, Bonus Appel+SMS: 8000 F. Code: *865*41#\n",
      "\n",
      "Forfait Fly Monthly2, montant: 12000 F, volume : 8 Go, validité 30 Jours, Bonus Appel+SMS: 12000 F. Code: *865*42#\n",
      "\n",
      "Forfait Fly Monthly3, montant: 25000 F, volume : 18 Go, validité 30 Jours, Bonus Appel+SMS: 25000 F. Code: *865*43#\n",
      "\n",
      "Forfait Fly Monthly4, montant: 4000 F, volume : 1,5 Go, validité 30 Jours, Bonus Appel+SMS: 4000 F. Code: *865*44#\n",
      "\n",
      "Forfait Fly Premium1, montant: 68500 F, volume : 50 Go, validité 30 Jours. Code: *865*51#\n",
      "\n",
      "Forfait Fly Premium2, montant: 135000 F, volume : 90 Go, validité 30 Jours. Code: *865*52#\n",
      "\n",
      "\n"
     ]
    }
   ],
   "source": [
    "posts = internet_mois.find()\n",
    "detail = posts.distinct(\"detail\")\n",
    "code = posts.distinct(\"code\")\n",
    "\n",
    "i=0\n",
    "message = \"\"\n",
    "for d in detail:\n",
    "    message = message + \"{}. Code: {}\\n\\n\".format(detail[i],code[i])\n",
    "    i=i+1\n",
    "    \n",
    "envoie = \"Nexttel propose les forfaits internet suivant: \\n{}\".format(message)\n",
    "print(envoie)"
   ]
  },
  {
   "cell_type": "code",
   "execution_count": 72,
   "id": "f992e860",
   "metadata": {},
   "outputs": [
    {
     "name": "stdout",
     "output_type": "stream",
     "text": [
      "merci \n",
      " idiot\n"
     ]
    }
   ],
   "source": [
    "test = \"merci \\n\"\n",
    "test = test + \" idiot\"\n",
    "print(test)"
   ]
  }
 ],
 "metadata": {
  "kernelspec": {
   "display_name": "Python 3",
   "language": "python",
   "name": "python3"
  }
 },
 "nbformat": 4,
 "nbformat_minor": 5
}
