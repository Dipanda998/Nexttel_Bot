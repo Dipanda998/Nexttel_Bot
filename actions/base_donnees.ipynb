{
 "cells": [
  {
   "cell_type": "code",
   "execution_count": 75,
   "id": "55fac648",
   "metadata": {},
   "outputs": [
    {
     "name": "stdout",
     "output_type": "stream",
     "text": [
      "NEXTTEL met à votre disposition:\n",
      "Des clés internet Dongle 3G compatible avec les systèmes Windows 10, 8, 7, XP, Vista et MAC OS. Elles fonctionnent sur les bandes UMTS 2100, 1900 et 900 MHz, et les bandes GSM 850, 1800, 1900 MHz. Le débit déscendant peut aller jusqu'à 21,6Mbps et le débit montant jusqu'à 11 Mbps.\n",
      "Elle supporte des cartes mémoires allant jusqu'à 32Go.\n",
      "Et tout ceci pour le prix de 1500 Francs CFA.\n",
      "Il est à noter qu'une clé achetée égale 01 Carte SIM + 500 Mo par mois pendant 05 mois \n",
      "������������\n",
      "https://www.mediafire.com/view/e3wz9jjv5rp20bc/phoneNexttel.PNG/file\n"
     ]
    },
    {
     "ename": "IndexError",
     "evalue": "list index out of range",
     "output_type": "error",
     "traceback": [
      "\u001b[1;31m---------------------------------------------------------------------------\u001b[0m",
      "\u001b[1;31mIndexError\u001b[0m                                Traceback (most recent call last)",
      "\u001b[1;32m<ipython-input-75-2335ac1d377f>\u001b[0m in \u001b[0;36m<module>\u001b[1;34m\u001b[0m\n\u001b[0;32m     20\u001b[0m     \u001b[0mimage\u001b[0m \u001b[1;33m=\u001b[0m \u001b[0mdata\u001b[0m\u001b[1;33m.\u001b[0m\u001b[0mdistinct\u001b[0m\u001b[1;33m(\u001b[0m\u001b[0mimage\u001b[0m\u001b[1;33m[\u001b[0m\u001b[1;36m0\u001b[0m\u001b[1;33m]\u001b[0m\u001b[1;33m)\u001b[0m\u001b[1;33m\u001b[0m\u001b[1;33m\u001b[0m\u001b[0m\n\u001b[0;32m     21\u001b[0m     \u001b[0mprix\u001b[0m \u001b[1;33m=\u001b[0m \u001b[0mprix\u001b[0m\u001b[1;33m[\u001b[0m\u001b[1;36m0\u001b[0m\u001b[1;33m]\u001b[0m\u001b[1;33m\u001b[0m\u001b[1;33m\u001b[0m\u001b[0m\n\u001b[1;32m---> 22\u001b[1;33m     \u001b[0mimage\u001b[0m \u001b[1;33m=\u001b[0m \u001b[0mimage\u001b[0m\u001b[1;33m[\u001b[0m\u001b[1;36m0\u001b[0m\u001b[1;33m]\u001b[0m\u001b[1;33m\u001b[0m\u001b[1;33m\u001b[0m\u001b[0m\n\u001b[0m\u001b[0;32m     23\u001b[0m     \u001b[0mprint\u001b[0m\u001b[1;33m(\u001b[0m\u001b[0mprix\u001b[0m\u001b[1;33m)\u001b[0m\u001b[1;33m\u001b[0m\u001b[1;33m\u001b[0m\u001b[0m\n\u001b[0;32m     24\u001b[0m     \u001b[0mprint\u001b[0m\u001b[1;33m(\u001b[0m\u001b[0mimage\u001b[0m\u001b[1;33m)\u001b[0m\u001b[1;33m\u001b[0m\u001b[1;33m\u001b[0m\u001b[0m\n",
      "\u001b[1;31mIndexError\u001b[0m: list index out of range"
     ]
    }
   ],
   "source": [
    "from pymongo import MongoClient\n",
    "import datetime\n",
    "import pprint\n",
    "client = MongoClient('localhost', 27017)\n",
    "db = client.rasa\n",
    "bd = db.prix_device\n",
    "data = bd.find()\n",
    "liste = [\"cle\",\"telephone\",\"wifiBox\",\"modemPoche\"]\n",
    "image = [\"image_cle\",\"image_phone\",\"image_box\",\"image_modem\"]\n",
    "\n",
    "# i=0\n",
    "# while i < len(liste):\n",
    "#     print(image[i])\n",
    "#     i = i+1\n",
    "i=0\n",
    "while i < len(liste):\n",
    "    if len(image) -i == 0:\n",
    "        break \n",
    "    prix = data.distinct(liste[i])\n",
    "    if i == 0:\n",
    "        image = data.distinct(\"image_cle\")\n",
    "    if i == 0:\n",
    "        image = data.distinct(\"image_cle\")\n",
    "    prix = prix[0]\n",
    "    image = image[0]\n",
    "    print(prix)\n",
    "    print(image)\n",
    "    i=i+1\n",
    "\n"
   ]
  },
  {
   "cell_type": "code",
   "execution_count": 20,
   "id": "98c87ef9",
   "metadata": {},
   "outputs": [
    {
     "name": "stdout",
     "output_type": "stream",
     "text": [
      "Nexttel propose les forfaits internet suivant: \n",
      "Forfait Fly Monthly1, montant: 8000 F, volume : 4,6 Go, validité 30 Jours, Bonus Appel+SMS: 8000 F. Code: *865*41#\n",
      "\n",
      "Forfait Fly Monthly2, montant: 12000 F, volume : 8 Go, validité 30 Jours, Bonus Appel+SMS: 12000 F. Code: *865*42#\n",
      "\n",
      "Forfait Fly Monthly3, montant: 25000 F, volume : 18 Go, validité 30 Jours, Bonus Appel+SMS: 25000 F. Code: *865*43#\n",
      "\n",
      "Forfait Fly Monthly4, montant: 4000 F, volume : 1,5 Go, validité 30 Jours, Bonus Appel+SMS: 4000 F. Code: *865*44#\n",
      "\n",
      "Forfait Fly Premium1, montant: 68500 F, volume : 50 Go, validité 30 Jours. Code: *865*51#\n",
      "\n",
      "Forfait Fly Premium2, montant: 135000 F, volume : 90 Go, validité 30 Jours. Code: *865*52#\n",
      "\n",
      "\n"
     ]
    }
   ],
   "source": [
    "posts = internet_mois.find()\n",
    "detail = posts.distinct(\"detail\")\n",
    "code = posts.distinct(\"code\")\n",
    "\n",
    "i=0\n",
    "message = \"\"\n",
    "for d in detail:\n",
    "    message = message + \"{}. Code: {}\\n\\n\".format(detail[i],code[i])\n",
    "    i=i+1\n",
    "    \n",
    "envoie = \"Nexttel propose les forfaits internet suivant: \\n{}\".format(message)\n",
    "print(envoie)"
   ]
  },
  {
   "cell_type": "code",
   "execution_count": 72,
   "id": "f992e860",
   "metadata": {},
   "outputs": [
    {
     "name": "stdout",
     "output_type": "stream",
     "text": [
      "merci \n",
      " idiot\n"
     ]
    }
   ],
   "source": [
    "test = \"merci \\n\"\n",
    "test = test + \" idiot\"\n",
    "print(test)"
   ]
  }
 ],
 "metadata": {
  "kernelspec": {
   "display_name": "Python 3",
   "language": "python",
   "name": "python3"
  },
  "language_info": {
   "codemirror_mode": {
    "name": "ipython",
    "version": 3
   },
   "file_extension": ".py",
   "mimetype": "text/x-python",
   "name": "python",
   "nbconvert_exporter": "python",
   "pygments_lexer": "ipython3",
   "version": "3.8.8"
  }
 },
 "nbformat": 4,
 "nbformat_minor": 5
}
