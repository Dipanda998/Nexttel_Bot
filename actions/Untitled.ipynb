{
 "cells": [
  {
   "cell_type": "code",
   "execution_count": 4,
   "id": "a557253d",
   "metadata": {},
   "outputs": [],
   "source": [
    "from __future__ import absolute_import\n",
    "from __future__ import division\n",
    "from __future__ import print_function\n",
    "from __future__ import unicode_literals\n",
    "from typing import Any, Text, Dict, List, Union\n",
    "#\n",
    "from rasa_sdk import Action, Tracker, FormValidationAction\n",
    "from rasa_sdk.executor import CollectingDispatcher\n",
    "import re\n",
    "from rasa_sdk.types import DomainDict\n",
    "from rasa_sdk.forms import FormAction\n",
    "from rasa_sdk.events import SlotSet, EventType\n",
    "import requests\n",
    "import smtplib\n",
    "from email.mime.multipart import MIMEMultipart\n",
    "from email.mime.text import MIMEText\n",
    "from rasa.core.channels.channel import InputChannel\n",
    "import os"
   ]
  },
  {
   "cell_type": "code",
   "execution_count": 15,
   "id": "3f619769",
   "metadata": {},
   "outputs": [],
   "source": [
    "\n",
    "\n",
    "fromaddr = \"teskingpro2@gmail.com\"#os.environ.get('EMAIL_USER')#\n",
    "password = \"Kingpro3.p0\"#os.environ.get('EMAIL_PASS')\n",
    "toaddr = \"testfrancoisking@gmail.com\"\n",
    "subject = \"Problème\"\n",
    "nom = \"Paul\"\n",
    "numero = \"69468151\"\n",
    "context = \"valeur absolue\"\n",
    "msg = MIMEMultipart()\n",
    "msg['From'] = fromaddr\n",
    "msg['To'] = toaddr\n",
    "msg['Subject'] = subject\n",
    "body = \"M ou Mme << {} >> qui a pour numero le << {} >> rencontre un problème.\\nLe contexte de la conversation est la suivante:\\n{}\".format(nom, numero, context)\n",
    "\n",
    "msg.attach(MIMEText(body,'plain'))\n",
    "\n",
    "s = smtplib.SMTP('smtp.gmail.com', 587)\n",
    "s.starttls()\n",
    "\n",
    "try:\n",
    "    s.login(fromaddr, password)\n",
    "    text = msg.as_string()\n",
    "    s.sendmail(fromaddr, toaddr, text)\n",
    "    print(\"Envoie reussi\")\n",
    "except:\n",
    "    print(\"Une erreur est survenue lors de l'envoi de la requête\")\n",
    "finally:\n",
    "    s.quit()\n",
    "\n",
    "# with smtplib.SMTP('smtp.gmail.com', 587) as smtp:\n",
    "#     smtp.ehlo()\n",
    "#     smtp.starttls()\n",
    "#     smtp.ehlo()\n",
    "#     body = \"M ou Mme\"  #{} >> qui a pour numero le << {} >> rencontre un problème.\\nLe contexte de la conversation est la suivante:\\n{}\".format(nom, numero, context)\n",
    "#     msg = f'Subject: {subject}\\n\\n{body}'\n",
    "#     #try:\n",
    "#     smtp.login(fromaddr, password)\n",
    "#     smtp.sendmail(fromaddr, toaddr, msg)\n",
    "#     print(\"Envoie reussi\")\n",
    "# #     except:\n",
    "# #         print(\"Une erreur est survenue lors de l'envoi de la requête\")"
   ]
  }
 ],
 "metadata": {
  "kernelspec": {
   "display_name": "Python 3",
   "language": "python",
   "name": "python3"
  },
  "language_info": {
   "codemirror_mode": {
    "name": "ipython",
    "version": 3
   },
   "file_extension": ".py",
   "mimetype": "text/x-python",
   "name": "python",
   "nbconvert_exporter": "python",
   "pygments_lexer": "ipython3",
   "version": "3.8.8"
  }
 },
 "nbformat": 4,
 "nbformat_minor": 5
}
