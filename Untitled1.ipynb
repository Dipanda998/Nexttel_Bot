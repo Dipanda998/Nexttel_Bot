{
 "cells": [
  {
   "cell_type": "code",
   "execution_count": 1,
   "id": "f051cc03",
   "metadata": {},
   "outputs": [],
   "source": [
    "# coding: utf-8 \n",
    "import socket\n",
    "import threading"
   ]
  },
  {
   "cell_type": "code",
   "execution_count": 10,
   "id": "5815161f",
   "metadata": {},
   "outputs": [
    {
     "name": "stdout",
     "output_type": "stream",
     "text": [
      "dfdf,dfdfd,fdfdfdf\n"
     ]
    }
   ],
   "source": [
    "test = \"dfdf\"\n",
    "po = \"dfdfd\"\n",
    "lo = \"fdfdfdf\"\n",
    "lo = str(lo)\n",
    "mess = \"\"\n",
    "mess = mess + test + \",\" + po + \",\" + lo\n",
    "print(mess)"
   ]
  }
 ],
 "metadata": {
  "kernelspec": {
   "display_name": "Python 3",
   "language": "python",
   "name": "python3"
  },
  "language_info": {
   "codemirror_mode": {
    "name": "ipython",
    "version": 3
   },
   "file_extension": ".py",
   "mimetype": "text/x-python",
   "name": "python",
   "nbconvert_exporter": "python",
   "pygments_lexer": "ipython3",
   "version": "3.8.8"
  }
 },
 "nbformat": 4,
 "nbformat_minor": 5
}
