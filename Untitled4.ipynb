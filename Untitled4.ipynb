{
 "cells": [
  {
   "cell_type": "code",
   "execution_count": 9,
   "id": "db700a5f",
   "metadata": {},
   "outputs": [],
   "source": [
    "import socket"
   ]
  },
  {
   "cell_type": "code",
   "execution_count": 20,
   "id": "60373b21",
   "metadata": {},
   "outputs": [
    {
     "name": "stdout",
     "output_type": "stream",
     "text": [
      "237663744490,pi,king\n",
      "From Server : rldapResponse:Unknow Subscriber,eldapResponse:Unknow Subscriber,fldapResponse:Unknow Subscriber,PldapResponse:Unknow Subscriber,dldapResponse:Unknow Subscriber,pldapResponse:Unknow Subscriber,CldapResponse:Unknow Subscriber,oldapResponse:Unknow Subscriber,nldapResponse:Unknow Subscriber,tldapResponse:Unknow Subscriber,eldapResponse:Unknow Subscriber,xldapResponse:Unknow Subscriber,tldapResponse:Unknow Subscriber,NldapResponse:Unknow Subscriber,aldapResponse:Unknow Subscriber,mldapResponse:Unknow Subscriber,eldapResponse:Unknow Subscriber,:ldapResponse:Unknow Subscriber,AldapResponse:Unknow Subscriber,PldapResponse:Unknow Subscriber,NldapResponse:Unknow Subscriber,=ldapResponse:Unknow Subscriber,nldapResponse:Unknow Subscriber,-ldapResponse:Unknow Subscriber,mldapResponse:Unknow Subscriber,mldapResponse:Unknow Subscriber,sldapResponse:Unknow Subscriber,,ldapResponse:Unknow Subscriber, ldapResponse:Unknow Subscriber,cldapResponse:Unknow Subscriber,hldapResponse:Unknow Subscriber,aldapResponse:Unknow Subscriber,\n",
      "237668512883,pi,king\n",
      "From Server : nldapResponse:Unknow Subscriber,gldapResponse:Unknow Subscriber,eldapResponse:Unknow Subscriber, ldapResponse:Unknow Subscriber,tldapResponse:Unknow Subscriber,oldapResponse:Unknow Subscriber, ldapResponse:Unknow Subscriber,nldapResponse:Unknow Subscriber,-ldapResponse:Unknow Subscriber,ildapResponse:Unknow Subscriber,nldapResponse:Unknow Subscriber,tldapResponse:Unknow Subscriber,eldapResponse:Unknow Subscriber,rldapResponse:Unknow Subscriber,nldapResponse:Unknow Subscriber,eldapResponse:Unknow Subscriber,tldapResponse:Unknow Subscriber,,\n",
      "bye\n",
      "From Server : rldapResponse:Unknow Subscriber,eldapResponse:Unknow Subscriber,fldapResponse:Unknow Subscriber,PldapResponse:Unknow Subscriber,dldapResponse:Unknow Subscriber,pldapResponse:Unknow Subscriber,CldapResponse:Unknow Subscriber,oldapResponse:Unknow Subscriber,nldapResponse:Unknow Subscriber,tldapResponse:Unknow Subscriber,eldapResponse:Unknow Subscriber,xldapResponse:Unknow Subscriber,tldapResponse:Unknow Subscriber,NldapResponse:Unknow Subscriber,aldapResponse:Unknow Subscriber,mldapResponse:Unknow Subscriber,eldapResponse:Unknow Subscriber,:ldapResponse:Unknow Subscriber,AldapResponse:Unknow Subscriber,PldapResponse:Unknow Subscriber,NldapResponse:Unknow Subscriber,=ldapResponse:Unknow Subscriber,nldapResponse:Unknow Subscriber,-ldapResponse:Unknow Subscriber,mldapResponse:Unknow Subscriber,mldapResponse:Unknow Subscriber,sldapResponse:Unknow Subscriber,,ldapResponse:Unknow Subscriber, ldapResponse:Unknow Subscriber,cldapResponse:Unknow Subscriber,hldapResponse:Unknow Subscriber,aldapResponse:Unknow Subscriber,\n"
     ]
    }
   ],
   "source": [
    "SERVER = \"192.168.1.9\"\n",
    "PORT = 12101\n",
    "client = socket.socket(socket.AF_INET, socket.SOCK_STREAM)\n",
    "client.connect((SERVER, PORT))\n",
    "# client.sendall(bytes(\"This is from Client\",'UTF-8'))\n",
    "while True:\n",
    "    out_data = input()\n",
    "    client.send(out_data.encode())\n",
    "    in_data =  client.recv(1024)\n",
    "    print(\"From Server : {}\".format(in_data.decode()))\n",
    "    if out_data=='bye':\n",
    "        break\n",
    "client.close()"
   ]
  },
  {
   "cell_type": "code",
   "execution_count": null,
   "id": "28cbcc6a",
   "metadata": {},
   "outputs": [],
   "source": []
  }
 ],
 "metadata": {
  "kernelspec": {
   "display_name": "Python 3",
   "language": "python",
   "name": "python3"
  },
  "language_info": {
   "codemirror_mode": {
    "name": "ipython",
    "version": 3
   },
   "file_extension": ".py",
   "mimetype": "text/x-python",
   "name": "python",
   "nbconvert_exporter": "python",
   "pygments_lexer": "ipython3",
   "version": "3.8.8"
  }
 },
 "nbformat": 4,
 "nbformat_minor": 5
}
